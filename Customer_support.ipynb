{
  "nbformat": 4,
  "nbformat_minor": 0,
  "metadata": {
    "colab": {
      "private_outputs": true,
      "provenance": [],
      "authorship_tag": "ABX9TyMYTfRWmffoSVxxm4ueyYec"
    },
    "kernelspec": {
      "name": "python3",
      "display_name": "Python 3"
    },
    "language_info": {
      "name": "python"
    }
  },
  "cells": [
    {
      "cell_type": "code",
      "execution_count": null,
      "metadata": {
        "id": "nd4BBjmzsNI-"
      },
      "outputs": [],
      "source": [
        "!pip install crewai==0.28.8 crewai_tools==0.1.6 langchain_community==0.0.29 # These are the Libraries that is required to run this notebook"
      ]
    },
    {
      "cell_type": "code",
      "source": [
        "from crewai import Agent, Task, Crew # These are the Things that is require to build AI Agents using Crew, Creating Agents using Agent Instance, Task Instance and Assembling all things using Crew"
      ],
      "metadata": {
        "id": "fpVuq1__uSZT"
      },
      "execution_count": null,
      "outputs": []
    },
    {
      "cell_type": "code",
      "source": [
        "import os\n",
        "from google.colab import userdata\n",
        "openai_api_key = userdata.get('openai_api_key')\n",
        "\n",
        "os.environ[\"OPENAI_MODEL_NAME\"]='gpt-3.5-turbo'\n",
        "os.environ[\"OPENAI_API_KEY\"] = openai_api_key # Here Configuring Everything like Model and other API keys that we gonna use in Tools"
      ],
      "metadata": {
        "id": "uaWBFU4JubZn"
      },
      "execution_count": null,
      "outputs": []
    },
    {
      "cell_type": "code",
      "source": [
        "support_agent = Agent( # Defining Agent with Specific Goals, Roles and Backstory which will play a role of Agent who have persona to act like and behave to complete given Task.\n",
        "    role=\"Senior Support Representative\",\n",
        "\tgoal=\"Be the most friendly and helpful \"\n",
        "        \"support representative in your team\",\n",
        "\tbackstory=(\n",
        "\t\t\"You work at crewAI (https://crewai.com) and \"\n",
        "        \" are now working on providing \"\n",
        "\t\t\"support to {customer}, a super important customer \"\n",
        "        \" for your company.\"\n",
        "\t\t\"You need to make sure that you provide the best support!\"\n",
        "\t\t\"Make sure to provide full complete answers, \"\n",
        "        \" and make no assumptions.\"\n",
        "\t),\n",
        "\tallow_delegation=False, # This is by default True , but here it is false because we don't want this agent to delegate the task taht is given to him\n",
        "\tverbose=True # For detailing out the Execution and we can see log of Everything\n",
        ")"
      ],
      "metadata": {
        "id": "MgD-bI3dumHg"
      },
      "execution_count": null,
      "outputs": []
    },
    {
      "cell_type": "markdown",
      "source": [
        "\n",
        "\n",
        "*   By not setting allow_delegation=False, allow_delegation takes its default value of being True.\n",
        "* This means the agent can delegate its work to another agent which is better suited to do a particular task.\n",
        "\n",
        "\n"
      ],
      "metadata": {
        "id": "WSJ7j9yZuskx"
      }
    },
    {
      "cell_type": "code",
      "source": [
        "support_quality_assurance_agent = Agent( # This is the Second Agent for Quality Assurance to verify , everything is going right.\n",
        "\trole=\"Support Quality Assurance Specialist\",\n",
        "\tgoal=\"Get recognition for providing the \"\n",
        "    \"best support quality assurance in your team\",\n",
        "\tbackstory=(\n",
        "\t\t\"You work at crewAI (https://crewai.com) and \"\n",
        "        \"are now working with your team \"\n",
        "\t\t\"on a request from {customer} ensuring that \"\n",
        "        \"the support representative is \"\n",
        "\t\t\"providing the best support possible.\\n\"\n",
        "\t\t\"You need to make sure that the support representative \"\n",
        "        \"is providing full\"\n",
        "\t\t\"complete answers, and make no assumptions.\"\n",
        "\t),\n",
        "\tverbose=True # For detailing out the Execution and we can see log of Everything and this agent can delgate task to other AGent\n",
        ")"
      ],
      "metadata": {
        "id": "Bkb6OelzuzUZ"
      },
      "execution_count": null,
      "outputs": []
    },
    {
      "cell_type": "code",
      "source": [
        "from crewai_tools import SerperDevTool, \\\n",
        "                         ScrapeWebsiteTool, \\\n",
        "                         WebsiteSearchTool # importing other tools to carry out Tasks, Tools are the real things which have real Impact on use case."
      ],
      "metadata": {
        "id": "3toyfoZavOtT"
      },
      "execution_count": null,
      "outputs": []
    },
    {
      "cell_type": "code",
      "source": [
        "docs_scrape_tool = ScrapeWebsiteTool(\n",
        "    website_url=\"https://docs.crewai.com/how-to/Creating-a-Crew-and-kick-it-off/\"\n",
        ")"
      ],
      "metadata": {
        "id": "0QfI_R6GvnTo"
      },
      "execution_count": null,
      "outputs": []
    },
    {
      "cell_type": "code",
      "source": [
        "# Here we are Defining Task that will carry out by Agents and in this Task Description and Expected OUtput criteria is set.\n",
        "inquiry_resolution = Task(\n",
        "    description=(\n",
        "        \"{customer} just reached out with a super important ask:\\n\"\n",
        "\t    \"{inquiry}\\n\\n\"\n",
        "        \"{person} from {customer} is the one that reached out. \"\n",
        "\t\t\"Make sure to use everything you know \"\n",
        "        \"to provide the best support possible.\"\n",
        "\t\t\"You must strive to provide a complete \"\n",
        "        \"and accurate response to the customer's inquiry.\"\n",
        "    ),\n",
        "    expected_output=(\n",
        "\t    \"A detailed, informative response to the \"\n",
        "        \"customer's inquiry that addresses \"\n",
        "        \"all aspects of their question.\\n\"\n",
        "        \"The response should include references \"\n",
        "        \"to everything you used to find the answer, \"\n",
        "        \"including external data or solutions. \"\n",
        "        \"Ensure the answer is complete, \"\n",
        "\t\t\"leaving no questions unanswered, and maintain a helpful and friendly \"\n",
        "\t\t\"tone throughout.\"\n",
        "    ),\n",
        "\ttools=[docs_scrape_tool], # here Clearly mentioning that which tools this task will use and Task's tool override Tools posses by Agents to perform that task.\n",
        "    agent=support_agent, # Here Defining which agent will perform this Task.\n",
        ")"
      ],
      "metadata": {
        "id": "GvKTOSuzvqlq"
      },
      "execution_count": null,
      "outputs": []
    },
    {
      "cell_type": "code",
      "source": [
        "quality_assurance_review = Task( # This is the Task that Quality Assurance Agent will perform\n",
        "    description=(\n",
        "        \"Review the response drafted by the Senior Support Representative for {customer}'s inquiry. \"\n",
        "        \"Ensure that the answer is comprehensive, accurate, and adheres to the \"\n",
        "\t\t\"high-quality standards expected for customer support.\\n\"\n",
        "        \"Verify that all parts of the customer's inquiry \"\n",
        "        \"have been addressed \"\n",
        "\t\t\"thoroughly, with a helpful and friendly tone.\\n\"\n",
        "        \"Check for references and sources used to \"\n",
        "        \" find the information, \"\n",
        "\t\t\"ensuring the response is well-supported and \"\n",
        "        \"leaves no questions unanswered.\"\n",
        "    ),\n",
        "    expected_output=(\n",
        "        \"A final, detailed, and informative response \"\n",
        "        \"ready to be sent to the customer.\\n\"\n",
        "        \"This response should fully address the \"\n",
        "        \"customer's inquiry, incorporating all \"\n",
        "\t\t\"relevant feedback and improvements.\\n\"\n",
        "\t\t\"Don't be too formal, we are a chill and cool company \"\n",
        "\t    \"but maintain a professional and friendly tone throughout.\"\n",
        "    ),\n",
        "    agent=support_quality_assurance_agent,\n",
        ")\n",
        "\n"
      ],
      "metadata": {
        "id": "LvB8HBzkvxvE"
      },
      "execution_count": null,
      "outputs": []
    },
    {
      "cell_type": "code",
      "source": [
        "# Here created Instance of Crew which is used to assemble everything in a unt Agents, Tools and tasks and Adding Memmory.\n",
        "crew = Crew(\n",
        "  agents=[support_agent, support_quality_assurance_agent],\n",
        "  tasks=[inquiry_resolution, quality_assurance_review],\n",
        "  verbose=2,\n",
        "  memory=True\n",
        ")"
      ],
      "metadata": {
        "id": "WMNl4goov1qi"
      },
      "execution_count": null,
      "outputs": []
    },
    {
      "cell_type": "code",
      "source": [
        "# giving Input to Agent to Perform its task\n",
        "inputs = {\n",
        "    \"customer\": \"DeepLearningAI\",\n",
        "    \"person\": \"Andrew Ng\",\n",
        "    \"inquiry\": \"I need help with setting up a Crew \"\n",
        "               \"and kicking it off, specifically \"\n",
        "               \"how can I add memory to my crew? \"\n",
        "               \"Can you provide guidance?\"\n",
        "}\n",
        "result = crew.kickoff(inputs=inputs)"
      ],
      "metadata": {
        "id": "q9fgL_UYwCrM"
      },
      "execution_count": null,
      "outputs": []
    },
    {
      "cell_type": "code",
      "source": [
        "# using Markdown to display Answer in more Beautiful and better format.\n",
        "from IPython.display import Markdown\n",
        "Markdown(result)"
      ],
      "metadata": {
        "id": "hZqPsvkxwFO8"
      },
      "execution_count": null,
      "outputs": []
    },
    {
      "cell_type": "code",
      "source": [],
      "metadata": {
        "id": "fOobG__JwHNa"
      },
      "execution_count": null,
      "outputs": []
    }
  ]
}